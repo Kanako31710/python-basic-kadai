{
  "nbformat": 4,
  "nbformat_minor": 0,
  "metadata": {
    "colab": {
      "provenance": []
    },
    "kernelspec": {
      "name": "python3",
      "display_name": "Python 3"
    },
    "language_info": {
      "name": "python"
    }
  },
  "cells": [
    {
      "cell_type": "code",
      "execution_count": 1,
      "metadata": {
        "colab": {
          "base_uri": "https://localhost:8080/"
        },
        "id": "MwIBBmRMZDeX",
        "outputId": "425ec414-9c69-4414-8c2c-c7458d318eb7"
      },
      "outputs": [
        {
          "output_type": "stream",
          "name": "stdout",
          "text": [
            "121.0\n"
          ]
        }
      ],
      "source": [
        "def add_tax(price, tax_rate):\n",
        "    total = price + (price * tax_rate / 100)\n",
        "    return total\n",
        "\n",
        "# 使用例\n",
        "result = add_tax(110, 10)\n",
        "print(result)\n"
      ]
    }
  ]
}