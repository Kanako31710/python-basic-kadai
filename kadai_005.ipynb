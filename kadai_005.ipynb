{
  "nbformat": 4,
  "nbformat_minor": 0,
  "metadata": {
    "colab": {
      "provenance": []
    },
    "kernelspec": {
      "name": "python3",
      "display_name": "Python 3"
    },
    "language_info": {
      "name": "python"
    }
  },
  "cells": [
    {
      "cell_type": "code",
      "execution_count": 11,
      "metadata": {
        "colab": {
          "base_uri": "https://localhost:8080/"
        },
        "id": "UkIUzQRtvC0S",
        "outputId": "3ddf35ae-6aaa-4800-ac76-a7706923e693"
      },
      "outputs": [
        {
          "output_type": "stream",
          "name": "stdout",
          "text": [
            "75.0cm2\n"
          ]
        }
      ],
      "source": [
        "johen = 10\n",
        "kahen =  20\n",
        "takasa = 5\n",
        "\n",
        "menseki=(johen + kahen ) * takasa / 2\n",
        "print(str(menseki)+\"cm2\")"
      ]
    },
    {
      "cell_type": "code",
      "source": [],
      "metadata": {
        "id": "3NxHbds7wLNd"
      },
      "execution_count": null,
      "outputs": []
    },
    {
      "cell_type": "code",
      "source": [],
      "metadata": {
        "id": "iCqQlEsXwNay"
      },
      "execution_count": null,
      "outputs": []
    }
  ]
}