{
  "nbformat": 4,
  "nbformat_minor": 0,
  "metadata": {
    "colab": {
      "provenance": []
    },
    "kernelspec": {
      "name": "python3",
      "display_name": "Python 3"
    },
    "language_info": {
      "name": "python"
    }
  },
  "cells": [
    {
      "cell_type": "code",
      "source": [
        "var = 15 # 任意の正の整数をここに入力\n",
        "\n",
        "if var % 3 == 0 and var % 5 == 0:\n",
        "    print(\"FizzBuzz\")\n",
        "if var % 3 == 0 and var % 5 != 0:\n",
        "    print(\"Fizz\")\n",
        "if var % 5 == 0 and var % 3 != 0:\n",
        "    print(\"Buzz\")\n",
        "if var % 3 != 0 and var % 5 != 0:\n",
        "    print(var)\n"
      ],
      "metadata": {
        "colab": {
          "base_uri": "https://localhost:8080/"
        },
        "id": "0fCD1M5ZUkZ_",
        "outputId": "363ba0fa-0da4-45eb-d277-bcd3a16cd127"
      },
      "execution_count": 4,
      "outputs": [
        {
          "output_type": "stream",
          "name": "stdout",
          "text": [
            "FizzBuzz\n"
          ]
        }
      ]
    }
  ]
}