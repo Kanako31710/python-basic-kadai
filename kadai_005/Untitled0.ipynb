{
  "nbformat": 4,
  "nbformat_minor": 0,
  "metadata": {
    "colab": {
      "provenance": []
    },
    "kernelspec": {
      "name": "python3",
      "display_name": "Python 3"
    },
    "language_info": {
      "name": "python"
    }
  },
  "cells": [
    {
      "cell_type": "code",
      "execution_count": 12,
      "metadata": {
        "colab": {
          "base_uri": "https://localhost:8080/"
        },
        "id": "UkIUzQRtvC0S",
        "outputId": "0afbd6db-96b6-4a86-b7e8-8d4615292e05"
      },
      "outputs": [
        {
          "output_type": "stream",
          "name": "stdout",
          "text": [
            "75.0㎠\n"
          ]
        }
      ],
      "source": [
        "johen = 10\n",
        "kahen =  20\n",
        "takasa = 5\n",
        "\n",
        "menseki=(johen + kahen ) * takasa / 2\n",
        "print(str(menseki)+\"㎠\")"
      ]
    },
    {
      "cell_type": "code",
      "source": [],
      "metadata": {
        "id": "3NxHbds7wLNd"
      },
      "execution_count": null,
      "outputs": []
    },
    {
      "cell_type": "code",
      "source": [],
      "metadata": {
        "id": "iCqQlEsXwNay"
      },
      "execution_count": null,
      "outputs": []
    }
  ]
}